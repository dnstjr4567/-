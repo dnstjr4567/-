{
  "nbformat": 4,
  "nbformat_minor": 0,
  "metadata": {
    "colab": {
      "provenance": [],
      "toc_visible": true,
      "authorship_tag": "ABX9TyNNstA0lwI+zh1YgPsrJCJC",
      "include_colab_link": true
    },
    "kernelspec": {
      "name": "python3",
      "display_name": "Python 3"
    },
    "language_info": {
      "name": "python"
    }
  },
  "cells": [
    {
      "cell_type": "markdown",
      "metadata": {
        "id": "view-in-github",
        "colab_type": "text"
      },
      "source": [
        "<a href=\"https://colab.research.google.com/github/dnstjr4567/api/blob/main/1%EC%A3%BC%EC%B0%A8.ipynb\" target=\"_parent\"><img src=\"https://colab.research.google.com/assets/colab-badge.svg\" alt=\"Open In Colab\"/></a>"
      ]
    },
    {
      "cell_type": "code",
      "execution_count": 17,
      "metadata": {
        "colab": {
          "base_uri": "https://localhost:8080/"
        },
        "id": "TYUYgYfEDZg1",
        "outputId": "b08c8ee6-f810-4355-824c-83d9e98c34ba"
      },
      "outputs": [
        {
          "output_type": "stream",
          "name": "stdout",
          "text": [
            "find 8\n",
            "time 8\n"
          ]
        }
      ],
      "source": [
        "#선형탐색\n",
        "arr= [1,2,3,4,5,6,7,8,9]\n",
        "item = 8                     # 찾고자 하는 것\n",
        "cnt = 0                       # 연산 횟수   \n",
        "for i in range(9):\n",
        "    if arr[i]==item : \n",
        "        cnt = cnt+1\n",
        "        print(\"find\",item)\n",
        "        print(\"time\",cnt)\n",
        "        break\n",
        "    cnt+=1    \n",
        "        "
      ]
    },
    {
      "cell_type": "code",
      "source": [
        "# 이진탐색\n",
        "arr= [1,2,3,4,5,6,7,8,9]\n",
        "item = 8                      # 찾고자 하는 것\n",
        "cnt = 0                       # 연산 횟수 \n",
        "left = 0                      # 배열 나누기위한 초기 인덱스  \n",
        "right = len(arr)-1            #\n",
        "while left <= right:\n",
        "  mid = (left+right)//2       #배열의 중앙값 찾기위한 중앙 인덱스 설정\n",
        "  guess = arr[mid]            #배열 중앙값 \n",
        "  if(guess == item):          #중앙값이 찾고자 하는 값과 같은 경우\n",
        "    print(\"find\", item)       #탐색 완료\n",
        "    cnt+=1\n",
        "    break\n",
        "  elif guess<item:            #중앙값이 더 작은 경우\n",
        "    left = mid+1              #left(인덱스)값을 기존 배열 중앙값보다 하나 크게 설정하여 배열을 중앙값보다 큰 부분들만 탐색하게 인덱스 새로 설정\n",
        "  else:                       #중앙값이 더 큰 경우\n",
        "    right = mid-1             #right(인덱스)값을 기존 배열 중앙값보다 하나 작게 설정하여 배열을 중앙값보다 작은 부분들만 탐색하게 인덱스 새로 설정\n",
        "  cnt+=1\n",
        "print(\"time\",cnt)"
      ],
      "metadata": {
        "colab": {
          "base_uri": "https://localhost:8080/"
        },
        "id": "K-BKGLjAFKJw",
        "outputId": "5b377fe6-6bdd-4ebf-f30c-e5f8f339c59e"
      },
      "execution_count": 16,
      "outputs": [
        {
          "output_type": "stream",
          "name": "stdout",
          "text": [
            "find 8\n",
            "time 3\n"
          ]
        }
      ]
    },
    {
      "cell_type": "code",
      "source": [],
      "metadata": {
        "id": "ThphtpBzE-od"
      },
      "execution_count": null,
      "outputs": []
    }
  ]
}